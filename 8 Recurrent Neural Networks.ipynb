{
 "cells": [
  {
   "cell_type": "markdown",
   "metadata": {},
   "source": [
    "# Recurrent Neural Networks"
   ]
  },
  {
   "cell_type": "code",
   "execution_count": 66,
   "metadata": {},
   "outputs": [],
   "source": [
    "import pandas as pd\n",
    "import numpy as np\n",
    "%matplotlib inline\n",
    "import matplotlib.pyplot as plt"
   ]
  },
  {
   "cell_type": "markdown",
   "metadata": {},
   "source": [
    "## Time series forecasting"
   ]
  },
  {
   "cell_type": "code",
   "execution_count": 67,
   "metadata": {},
   "outputs": [
    {
     "data": {
      "text/html": [
       "<div>\n",
       "<style scoped>\n",
       "    .dataframe tbody tr th:only-of-type {\n",
       "        vertical-align: middle;\n",
       "    }\n",
       "\n",
       "    .dataframe tbody tr th {\n",
       "        vertical-align: top;\n",
       "    }\n",
       "\n",
       "    .dataframe thead th {\n",
       "        text-align: right;\n",
       "    }\n",
       "</style>\n",
       "<table border=\"1\" class=\"dataframe\">\n",
       "  <thead>\n",
       "    <tr style=\"text-align: right;\">\n",
       "      <th></th>\n",
       "      <th>Tutar</th>\n",
       "    </tr>\n",
       "  </thead>\n",
       "  <tbody>\n",
       "    <tr>\n",
       "      <th>0</th>\n",
       "      <td>83170.88</td>\n",
       "    </tr>\n",
       "    <tr>\n",
       "      <th>1</th>\n",
       "      <td>9714.14</td>\n",
       "    </tr>\n",
       "    <tr>\n",
       "      <th>2</th>\n",
       "      <td>1800.00</td>\n",
       "    </tr>\n",
       "    <tr>\n",
       "      <th>3</th>\n",
       "      <td>75185.08</td>\n",
       "    </tr>\n",
       "    <tr>\n",
       "      <th>4</th>\n",
       "      <td>79047.72</td>\n",
       "    </tr>\n",
       "  </tbody>\n",
       "</table>\n",
       "</div>"
      ],
      "text/plain": [
       "      Tutar\n",
       "0  83170.88\n",
       "1   9714.14\n",
       "2   1800.00\n",
       "3  75185.08\n",
       "4  79047.72"
      ]
     },
     "execution_count": 67,
     "metadata": {},
     "output_type": "execute_result"
    }
   ],
   "source": [
    "df = pd.read_csv('C:/Users/BALLOUCH/Desktop/Time series project/Data/R_Data/DATA_LSTM/data.csv')\n",
    "df.head()"
   ]
  },
  {
   "cell_type": "code",
   "execution_count": 68,
   "metadata": {},
   "outputs": [],
   "source": [
    "from pandas.tseries.offsets import MonthEnd"
   ]
  },
  {
   "cell_type": "code",
   "execution_count": 5,
   "metadata": {
    "scrolled": true
   },
   "outputs": [],
   "source": [
    "#df['Adjustments'] = pd.to_datetime(df['Adjustments']) + MonthEnd(1)\n",
    "#df = df.set_index('Adjustments')\n",
    "#df.head()"
   ]
  },
  {
   "cell_type": "code",
   "execution_count": 4,
   "metadata": {},
   "outputs": [
    {
     "data": {
      "text/plain": [
       "<matplotlib.axes._subplots.AxesSubplot at 0x20c714fa630>"
      ]
     },
     "execution_count": 4,
     "metadata": {},
     "output_type": "execute_result"
    },
    {
     "data": {
      "image/png": "[encoded data removed]",
      "text/plain": [
       "<Figure size 432x288 with 1 Axes>"
      ]
     },
     "metadata": {
      "needs_background": "light"
     },
     "output_type": "display_data"
    }
   ],
   "source": [
    "df.plot()"
   ]
  },
  {
   "cell_type": "code",
   "execution_count": 69,
   "metadata": {},
   "outputs": [
    {
     "data": {
      "text/plain": [
       "(376, 1)"
      ]
     },
     "execution_count": 69,
     "metadata": {},
     "output_type": "execute_result"
    }
   ],
   "source": [
    "df.values.shape"
   ]
  },
  {
   "cell_type": "code",
   "execution_count": 70,
   "metadata": {},
   "outputs": [],
   "source": [
    "train = df.iloc[:356, :]\n",
    "test = df.loc[356:, ]"
   ]
  },
  {
   "cell_type": "code",
   "execution_count": 71,
   "metadata": {},
   "outputs": [],
   "source": [
    "from sklearn.preprocessing import MinMaxScaler\n",
    "\n",
    "sc = MinMaxScaler()\n",
    "\n",
    "train_sc = sc.fit_transform(train)\n",
    "test_sc = sc.transform(test)"
   ]
  },
  {
   "cell_type": "code",
   "execution_count": 72,
   "metadata": {},
   "outputs": [
    {
     "data": {
      "text/plain": [
       "array([[0.01804302],\n",
       "       [0.00210738],\n",
       "       [0.00039049],\n",
       "       [0.01631059]])"
      ]
     },
     "execution_count": 72,
     "metadata": {},
     "output_type": "execute_result"
    }
   ],
   "source": [
    "train_sc[:4]"
   ]
  },
  {
   "cell_type": "code",
   "execution_count": 73,
   "metadata": {},
   "outputs": [],
   "source": [
    "X_train = train_sc[:-1]\n",
    "y_train = train_sc[1:]\n",
    "\n",
    "X_test = test_sc[:-1]\n",
    "y_test = test_sc[1:]"
   ]
  },
  {
   "cell_type": "markdown",
   "metadata": {},
   "source": [
    "### Fully connected predictor"
   ]
  },
  {
   "cell_type": "code",
   "execution_count": 74,
   "metadata": {},
   "outputs": [],
   "source": [
    "from keras.models import Sequential\n",
    "from keras.layers import Dense\n",
    "import keras.backend as K\n",
    "from keras.callbacks import EarlyStopping"
   ]
  },
  {
   "cell_type": "code",
   "execution_count": 75,
   "metadata": {},
   "outputs": [
    {
     "name": "stdout",
     "output_type": "stream",
     "text": [
      "_________________________________________________________________\n",
      "Layer (type)                 Output Shape              Param #   \n",
      "=================================================================\n",
      "dense_1 (Dense)              (None, 88)                176       \n",
      "_________________________________________________________________\n",
      "dense_2 (Dense)              (None, 90)                8010      \n",
      "_________________________________________________________________\n",
      "dense_3 (Dense)              (None, 1)                 91        \n",
      "=================================================================\n",
      "Total params: 8,277\n",
      "Trainable params: 8,277\n",
      "Non-trainable params: 0\n",
      "_________________________________________________________________\n"
     ]
    }
   ],
   "source": [
    "K.clear_session()\n",
    "\n",
    "model = Sequential()\n",
    "model.add(Dense(88, input_dim=1, activation='relu'))\n",
    "model.add(Dense(90,  activation='relu'))\n",
    "model.add(Dense(1))\n",
    "model.compile(loss='mean_squared_error', optimizer='adam')\n",
    "model.summary()"
   ]
  },
  {
   "cell_type": "code",
   "execution_count": 76,
   "metadata": {},
   "outputs": [],
   "source": [
    "early_stop = EarlyStopping(monitor='loss', patience=1, verbose=1)"
   ]
  },
  {
   "cell_type": "code",
   "execution_count": 86,
   "metadata": {},
   "outputs": [
    {
     "name": "stdout",
     "output_type": "stream",
     "text": [
      "Epoch 1/100\n",
      "355/355 [==============================] - 0s 56us/step - loss: 0.0079\n",
      "Epoch 2/100\n",
      "355/355 [==============================] - 0s 56us/step - loss: 0.0081\n",
      "Epoch 00002: early stopping\n"
     ]
    },
    {
     "data": {
      "text/plain": [
       "<keras.callbacks.History at 0x20c02085390>"
      ]
     },
     "execution_count": 86,
     "metadata": {},
     "output_type": "execute_result"
    }
   ],
   "source": [
    "model.fit(X_train, y_train, epochs=100,\n",
    "          batch_size=50, verbose=1,\n",
    "          callbacks=[early_stop])"
   ]
  },
  {
   "cell_type": "code",
   "execution_count": 87,
   "metadata": {},
   "outputs": [],
   "source": [
    "y_pred = model.predict(X_test)"
   ]
  },
  {
   "cell_type": "code",
   "execution_count": 88,
   "metadata": {},
   "outputs": [],
   "source": [
    "y_test1 = sc.inverse_transform(y_test)\n",
    "y_pred1 = sc.inverse_transform(y_pred)"
   ]
  },
  {
   "cell_type": "code",
   "execution_count": 89,
   "metadata": {},
   "outputs": [
    {
     "data": {
      "text/plain": [
       "[<matplotlib.lines.Line2D at 0x20c02085128>]"
      ]
     },
     "execution_count": 89,
     "metadata": {},
     "output_type": "execute_result"
    },
    {
     "data": {
      "image/png": "[encoded data removed]",
      "text/plain": [
       "<Figure size 432x288 with 1 Axes>"
      ]
     },
     "metadata": {
      "needs_background": "light"
     },
     "output_type": "display_data"
    }
   ],
   "source": [
    "plt.plot(y_test1)\n",
    "plt.plot(y_pred1)"
   ]
  },
  {
   "cell_type": "code",
   "execution_count": 90,
   "metadata": {},
   "outputs": [
    {
     "data": {
      "text/plain": [
       "201398.50226973684"
      ]
     },
     "execution_count": 90,
     "metadata": {},
     "output_type": "execute_result"
    }
   ],
   "source": [
    "from sklearn.metrics import mean_absolute_error\n",
    "x=mean_absolute_error(y_test1, y_pred1)\n",
    "x"
   ]
  },
  {
   "cell_type": "markdown",
   "metadata": {},
   "source": [
    "### Recurrent predictor"
   ]
  },
  {
   "cell_type": "code",
   "execution_count": 26,
   "metadata": {},
   "outputs": [],
   "source": [
    "from keras.layers import LSTM"
   ]
  },
  {
   "cell_type": "code",
   "execution_count": 27,
   "metadata": {},
   "outputs": [
    {
     "data": {
      "text/plain": [
       "(355, 1)"
      ]
     },
     "execution_count": 27,
     "metadata": {},
     "output_type": "execute_result"
    }
   ],
   "source": [
    "X_train.shape"
   ]
  },
  {
   "cell_type": "code",
   "execution_count": 28,
   "metadata": {},
   "outputs": [
    {
     "data": {
      "text/plain": [
       "(355, 1, 1)"
      ]
     },
     "execution_count": 28,
     "metadata": {},
     "output_type": "execute_result"
    }
   ],
   "source": [
    "#3D tensor with shape (batch_size, timesteps, input_dim)\n",
    "X_train[:, None].shape"
   ]
  },
  {
   "cell_type": "code",
   "execution_count": 29,
   "metadata": {},
   "outputs": [],
   "source": [
    "X_train_t = X_train[:, None]\n",
    "X_test_t = X_test[:, None]"
   ]
  },
  {
   "cell_type": "code",
   "execution_count": 30,
   "metadata": {},
   "outputs": [],
   "source": [
    "K.clear_session()\n",
    "model = Sequential()\n",
    "\n",
    "model.add(LSTM(6, input_shape=(1, 1)))\n",
    "\n",
    "model.add(Dense(1))\n",
    "\n",
    "model.compile(loss='mean_squared_error', optimizer='adam')"
   ]
  },
  {
   "cell_type": "code",
   "execution_count": 31,
   "metadata": {},
   "outputs": [
    {
     "name": "stdout",
     "output_type": "stream",
     "text": [
      "Epoch 1/50\n",
      "355/355 [==============================] - 3s 8ms/step - loss: 0.0110\n",
      "Epoch 2/50\n",
      "355/355 [==============================] - 1s 4ms/step - loss: 0.0100\n",
      "Epoch 3/50\n",
      "355/355 [==============================] - 1s 4ms/step - loss: 0.0095\n",
      "Epoch 4/50\n",
      "355/355 [==============================] - 2s 5ms/step - loss: 0.0090\n",
      "Epoch 5/50\n",
      "355/355 [==============================] - 2s 4ms/step - loss: 0.0087\n",
      "Epoch 6/50\n",
      "355/355 [==============================] - 1s 4ms/step - loss: 0.0085\n",
      "Epoch 7/50\n",
      "355/355 [==============================] - 2s 5ms/step - loss: 0.0082\n",
      "Epoch 8/50\n",
      "355/355 [==============================] - 2s 4ms/step - loss: 0.0082\n",
      "Epoch 00008: early stopping\n"
     ]
    },
    {
     "data": {
      "text/plain": [
       "<keras.callbacks.History at 0x20c790b1a58>"
      ]
     },
     "execution_count": 31,
     "metadata": {},
     "output_type": "execute_result"
    }
   ],
   "source": [
    "model.fit(X_train_t, y_train,\n",
    "          epochs=50, batch_size=1, verbose=1,\n",
    "          callbacks=[early_stop])"
   ]
  },
  {
   "cell_type": "code",
   "execution_count": 32,
   "metadata": {},
   "outputs": [],
   "source": [
    "y_pred = model.predict(X_test_t)\n"
   ]
  },
  {
   "cell_type": "code",
   "execution_count": 33,
   "metadata": {},
   "outputs": [],
   "source": [
    "y_test2 = sc.inverse_transform(y_test)\n",
    "y_pred2 = sc.inverse_transform(y_pred)"
   ]
  },
  {
   "cell_type": "code",
   "execution_count": 34,
   "metadata": {},
   "outputs": [
    {
     "data": {
      "text/plain": [
       "[<matplotlib.lines.Line2D at 0x20c790b1f98>]"
      ]
     },
     "execution_count": 34,
     "metadata": {},
     "output_type": "execute_result"
    },
    {
     "data": {
      "image/png": "[encoded data removed]",
      "text/plain": [
       "<Figure size 432x288 with 1 Axes>"
      ]
     },
     "metadata": {
      "needs_background": "light"
     },
     "output_type": "display_data"
    }
   ],
   "source": [
    "plt.plot(y_test2)\n",
    "plt.plot(y_pred2)"
   ]
  },
  {
   "cell_type": "code",
   "execution_count": 35,
   "metadata": {},
   "outputs": [
    {
     "data": {
      "text/plain": [
       "126355.9159210526"
      ]
     },
     "execution_count": 35,
     "metadata": {},
     "output_type": "execute_result"
    }
   ],
   "source": [
    "from sklearn.metrics import mean_absolute_error\n",
    "x=mean_absolute_error(y_test2, y_pred2)\n",
    "x"
   ]
  },
  {
   "cell_type": "markdown",
   "metadata": {},
   "source": [
    "## Windows"
   ]
  },
  {
   "cell_type": "code",
   "execution_count": 91,
   "metadata": {},
   "outputs": [
    {
     "data": {
      "text/plain": [
       "(356, 1)"
      ]
     },
     "execution_count": 91,
     "metadata": {},
     "output_type": "execute_result"
    }
   ],
   "source": [
    "train_sc.shape"
   ]
  },
  {
   "cell_type": "code",
   "execution_count": 92,
   "metadata": {},
   "outputs": [
    {
     "data": {
      "text/html": [
       "<div>\n",
       "<style scoped>\n",
       "    .dataframe tbody tr th:only-of-type {\n",
       "        vertical-align: middle;\n",
       "    }\n",
       "\n",
       "    .dataframe tbody tr th {\n",
       "        vertical-align: top;\n",
       "    }\n",
       "\n",
       "    .dataframe thead th {\n",
       "        text-align: right;\n",
       "    }\n",
       "</style>\n",
       "<table border=\"1\" class=\"dataframe\">\n",
       "  <thead>\n",
       "    <tr style=\"text-align: right;\">\n",
       "      <th></th>\n",
       "      <th>Scaled</th>\n",
       "    </tr>\n",
       "  </thead>\n",
       "  <tbody>\n",
       "    <tr>\n",
       "      <th>0</th>\n",
       "      <td>0.018043</td>\n",
       "    </tr>\n",
       "    <tr>\n",
       "      <th>1</th>\n",
       "      <td>0.002107</td>\n",
       "    </tr>\n",
       "    <tr>\n",
       "      <th>2</th>\n",
       "      <td>0.000390</td>\n",
       "    </tr>\n",
       "    <tr>\n",
       "      <th>3</th>\n",
       "      <td>0.016311</td>\n",
       "    </tr>\n",
       "    <tr>\n",
       "      <th>4</th>\n",
       "      <td>0.017149</td>\n",
       "    </tr>\n",
       "  </tbody>\n",
       "</table>\n",
       "</div>"
      ],
      "text/plain": [
       "     Scaled\n",
       "0  0.018043\n",
       "1  0.002107\n",
       "2  0.000390\n",
       "3  0.016311\n",
       "4  0.017149"
      ]
     },
     "execution_count": 92,
     "metadata": {},
     "output_type": "execute_result"
    }
   ],
   "source": [
    "train_sc_df = pd.DataFrame(train_sc, columns=['Scaled'], index=train.index)\n",
    "test_sc_df = pd.DataFrame(test_sc, columns=['Scaled'], index=test.index)\n",
    "train_sc_df.head()"
   ]
  },
  {
   "cell_type": "code",
   "execution_count": 93,
   "metadata": {},
   "outputs": [],
   "source": [
    "for s in range(1, 13):\n",
    "    train_sc_df['shift_{}'.format(s)] = train_sc_df['Scaled'].shift(s)\n",
    "    test_sc_df['shift_{}'.format(s)] = test_sc_df['Scaled'].shift(s)"
   ]
  },
  {
   "cell_type": "code",
   "execution_count": 94,
   "metadata": {},
   "outputs": [
    {
     "data": {
      "text/html": [
       "<div>\n",
       "<style scoped>\n",
       "    .dataframe tbody tr th:only-of-type {\n",
       "        vertical-align: middle;\n",
       "    }\n",
       "\n",
       "    .dataframe tbody tr th {\n",
       "        vertical-align: top;\n",
       "    }\n",
       "\n",
       "    .dataframe thead th {\n",
       "        text-align: right;\n",
       "    }\n",
       "</style>\n",
       "<table border=\"1\" class=\"dataframe\">\n",
       "  <thead>\n",
       "    <tr style=\"text-align: right;\">\n",
       "      <th></th>\n",
       "      <th>Scaled</th>\n",
       "      <th>shift_1</th>\n",
       "      <th>shift_2</th>\n",
       "      <th>shift_3</th>\n",
       "      <th>shift_4</th>\n",
       "      <th>shift_5</th>\n",
       "      <th>shift_6</th>\n",
       "      <th>shift_7</th>\n",
       "      <th>shift_8</th>\n",
       "      <th>shift_9</th>\n",
       "      <th>shift_10</th>\n",
       "      <th>shift_11</th>\n",
       "      <th>shift_12</th>\n",
       "    </tr>\n",
       "  </thead>\n",
       "  <tbody>\n",
       "    <tr>\n",
       "      <th>0</th>\n",
       "      <td>0.018043</td>\n",
       "      <td>NaN</td>\n",
       "      <td>NaN</td>\n",
       "      <td>NaN</td>\n",
       "      <td>NaN</td>\n",
       "      <td>NaN</td>\n",
       "      <td>NaN</td>\n",
       "      <td>NaN</td>\n",
       "      <td>NaN</td>\n",
       "      <td>NaN</td>\n",
       "      <td>NaN</td>\n",
       "      <td>NaN</td>\n",
       "      <td>NaN</td>\n",
       "    </tr>\n",
       "    <tr>\n",
       "      <th>1</th>\n",
       "      <td>0.002107</td>\n",
       "      <td>0.018043</td>\n",
       "      <td>NaN</td>\n",
       "      <td>NaN</td>\n",
       "      <td>NaN</td>\n",
       "      <td>NaN</td>\n",
       "      <td>NaN</td>\n",
       "      <td>NaN</td>\n",
       "      <td>NaN</td>\n",
       "      <td>NaN</td>\n",
       "      <td>NaN</td>\n",
       "      <td>NaN</td>\n",
       "      <td>NaN</td>\n",
       "    </tr>\n",
       "    <tr>\n",
       "      <th>2</th>\n",
       "      <td>0.000390</td>\n",
       "      <td>0.002107</td>\n",
       "      <td>0.018043</td>\n",
       "      <td>NaN</td>\n",
       "      <td>NaN</td>\n",
       "      <td>NaN</td>\n",
       "      <td>NaN</td>\n",
       "      <td>NaN</td>\n",
       "      <td>NaN</td>\n",
       "      <td>NaN</td>\n",
       "      <td>NaN</td>\n",
       "      <td>NaN</td>\n",
       "      <td>NaN</td>\n",
       "    </tr>\n",
       "    <tr>\n",
       "      <th>3</th>\n",
       "      <td>0.016311</td>\n",
       "      <td>0.000390</td>\n",
       "      <td>0.002107</td>\n",
       "      <td>0.018043</td>\n",
       "      <td>NaN</td>\n",
       "      <td>NaN</td>\n",
       "      <td>NaN</td>\n",
       "      <td>NaN</td>\n",
       "      <td>NaN</td>\n",
       "      <td>NaN</td>\n",
       "      <td>NaN</td>\n",
       "      <td>NaN</td>\n",
       "      <td>NaN</td>\n",
       "    </tr>\n",
       "    <tr>\n",
       "      <th>4</th>\n",
       "      <td>0.017149</td>\n",
       "      <td>0.016311</td>\n",
       "      <td>0.000390</td>\n",
       "      <td>0.002107</td>\n",
       "      <td>0.018043</td>\n",
       "      <td>NaN</td>\n",
       "      <td>NaN</td>\n",
       "      <td>NaN</td>\n",
       "      <td>NaN</td>\n",
       "      <td>NaN</td>\n",
       "      <td>NaN</td>\n",
       "      <td>NaN</td>\n",
       "      <td>NaN</td>\n",
       "    </tr>\n",
       "    <tr>\n",
       "      <th>5</th>\n",
       "      <td>0.031413</td>\n",
       "      <td>0.017149</td>\n",
       "      <td>0.016311</td>\n",
       "      <td>0.000390</td>\n",
       "      <td>0.002107</td>\n",
       "      <td>0.018043</td>\n",
       "      <td>NaN</td>\n",
       "      <td>NaN</td>\n",
       "      <td>NaN</td>\n",
       "      <td>NaN</td>\n",
       "      <td>NaN</td>\n",
       "      <td>NaN</td>\n",
       "      <td>NaN</td>\n",
       "    </tr>\n",
       "    <tr>\n",
       "      <th>6</th>\n",
       "      <td>0.036721</td>\n",
       "      <td>0.031413</td>\n",
       "      <td>0.017149</td>\n",
       "      <td>0.016311</td>\n",
       "      <td>0.000390</td>\n",
       "      <td>0.002107</td>\n",
       "      <td>0.018043</td>\n",
       "      <td>NaN</td>\n",
       "      <td>NaN</td>\n",
       "      <td>NaN</td>\n",
       "      <td>NaN</td>\n",
       "      <td>NaN</td>\n",
       "      <td>NaN</td>\n",
       "    </tr>\n",
       "    <tr>\n",
       "      <th>7</th>\n",
       "      <td>0.027142</td>\n",
       "      <td>0.036721</td>\n",
       "      <td>0.031413</td>\n",
       "      <td>0.017149</td>\n",
       "      <td>0.016311</td>\n",
       "      <td>0.000390</td>\n",
       "      <td>0.002107</td>\n",
       "      <td>0.018043</td>\n",
       "      <td>NaN</td>\n",
       "      <td>NaN</td>\n",
       "      <td>NaN</td>\n",
       "      <td>NaN</td>\n",
       "      <td>NaN</td>\n",
       "    </tr>\n",
       "    <tr>\n",
       "      <th>8</th>\n",
       "      <td>0.057509</td>\n",
       "      <td>0.027142</td>\n",
       "      <td>0.036721</td>\n",
       "      <td>0.031413</td>\n",
       "      <td>0.017149</td>\n",
       "      <td>0.016311</td>\n",
       "      <td>0.000390</td>\n",
       "      <td>0.002107</td>\n",
       "      <td>0.018043</td>\n",
       "      <td>NaN</td>\n",
       "      <td>NaN</td>\n",
       "      <td>NaN</td>\n",
       "      <td>NaN</td>\n",
       "    </tr>\n",
       "    <tr>\n",
       "      <th>9</th>\n",
       "      <td>0.000000</td>\n",
       "      <td>0.057509</td>\n",
       "      <td>0.027142</td>\n",
       "      <td>0.036721</td>\n",
       "      <td>0.031413</td>\n",
       "      <td>0.017149</td>\n",
       "      <td>0.016311</td>\n",
       "      <td>0.000390</td>\n",
       "      <td>0.002107</td>\n",
       "      <td>0.018043</td>\n",
       "      <td>NaN</td>\n",
       "      <td>NaN</td>\n",
       "      <td>NaN</td>\n",
       "    </tr>\n",
       "  </tbody>\n",
       "</table>\n",
       "</div>"
      ],
      "text/plain": [
       "     Scaled   shift_1   shift_2   shift_3   shift_4   shift_5   shift_6  \\\n",
       "0  0.018043       NaN       NaN       NaN       NaN       NaN       NaN   \n",
       "1  0.002107  0.018043       NaN       NaN       NaN       NaN       NaN   \n",
       "2  0.000390  0.002107  0.018043       NaN       NaN       NaN       NaN   \n",
       "3  0.016311  0.000390  0.002107  0.018043       NaN       NaN       NaN   \n",
       "4  0.017149  0.016311  0.000390  0.002107  0.018043       NaN       NaN   \n",
       "5  0.031413  0.017149  0.016311  0.000390  0.002107  0.018043       NaN   \n",
       "6  0.036721  0.031413  0.017149  0.016311  0.000390  0.002107  0.018043   \n",
       "7  0.027142  0.036721  0.031413  0.017149  0.016311  0.000390  0.002107   \n",
       "8  0.057509  0.027142  0.036721  0.031413  0.017149  0.016311  0.000390   \n",
       "9  0.000000  0.057509  0.027142  0.036721  0.031413  0.017149  0.016311   \n",
       "\n",
       "    shift_7   shift_8   shift_9  shift_10  shift_11  shift_12  \n",
       "0       NaN       NaN       NaN       NaN       NaN       NaN  \n",
       "1       NaN       NaN       NaN       NaN       NaN       NaN  \n",
       "2       NaN       NaN       NaN       NaN       NaN       NaN  \n",
       "3       NaN       NaN       NaN       NaN       NaN       NaN  \n",
       "4       NaN       NaN       NaN       NaN       NaN       NaN  \n",
       "5       NaN       NaN       NaN       NaN       NaN       NaN  \n",
       "6       NaN       NaN       NaN       NaN       NaN       NaN  \n",
       "7  0.018043       NaN       NaN       NaN       NaN       NaN  \n",
       "8  0.002107  0.018043       NaN       NaN       NaN       NaN  \n",
       "9  0.000390  0.002107  0.018043       NaN       NaN       NaN  "
      ]
     },
     "execution_count": 94,
     "metadata": {},
     "output_type": "execute_result"
    }
   ],
   "source": [
    "train_sc_df.head(10)"
   ]
  },
  {
   "cell_type": "code",
   "execution_count": 95,
   "metadata": {},
   "outputs": [],
   "source": [
    "X_train = train_sc_df.dropna().drop('Scaled', axis=1)\n",
    "y_train = train_sc_df.dropna()[['Scaled']]\n",
    "\n",
    "X_test = test_sc_df.dropna().drop('Scaled', axis=1)\n",
    "y_test = test_sc_df.dropna()[['Scaled']]"
   ]
  },
  {
   "cell_type": "code",
   "execution_count": 96,
   "metadata": {},
   "outputs": [
    {
     "data": {
      "text/html": [
       "<div>\n",
       "<style scoped>\n",
       "    .dataframe tbody tr th:only-of-type {\n",
       "        vertical-align: middle;\n",
       "    }\n",
       "\n",
       "    .dataframe tbody tr th {\n",
       "        vertical-align: top;\n",
       "    }\n",
       "\n",
       "    .dataframe thead th {\n",
       "        text-align: right;\n",
       "    }\n",
       "</style>\n",
       "<table border=\"1\" class=\"dataframe\">\n",
       "  <thead>\n",
       "    <tr style=\"text-align: right;\">\n",
       "      <th></th>\n",
       "      <th>shift_1</th>\n",
       "      <th>shift_2</th>\n",
       "      <th>shift_3</th>\n",
       "      <th>shift_4</th>\n",
       "      <th>shift_5</th>\n",
       "      <th>shift_6</th>\n",
       "      <th>shift_7</th>\n",
       "      <th>shift_8</th>\n",
       "      <th>shift_9</th>\n",
       "      <th>shift_10</th>\n",
       "      <th>shift_11</th>\n",
       "      <th>shift_12</th>\n",
       "    </tr>\n",
       "  </thead>\n",
       "  <tbody>\n",
       "    <tr>\n",
       "      <th>12</th>\n",
       "      <td>0.064542</td>\n",
       "      <td>0.043557</td>\n",
       "      <td>0.000000</td>\n",
       "      <td>0.057509</td>\n",
       "      <td>0.027142</td>\n",
       "      <td>0.036721</td>\n",
       "      <td>0.031413</td>\n",
       "      <td>0.017149</td>\n",
       "      <td>0.016311</td>\n",
       "      <td>0.000390</td>\n",
       "      <td>0.002107</td>\n",
       "      <td>0.018043</td>\n",
       "    </tr>\n",
       "    <tr>\n",
       "      <th>13</th>\n",
       "      <td>0.075825</td>\n",
       "      <td>0.064542</td>\n",
       "      <td>0.043557</td>\n",
       "      <td>0.000000</td>\n",
       "      <td>0.057509</td>\n",
       "      <td>0.027142</td>\n",
       "      <td>0.036721</td>\n",
       "      <td>0.031413</td>\n",
       "      <td>0.017149</td>\n",
       "      <td>0.016311</td>\n",
       "      <td>0.000390</td>\n",
       "      <td>0.002107</td>\n",
       "    </tr>\n",
       "    <tr>\n",
       "      <th>14</th>\n",
       "      <td>0.044149</td>\n",
       "      <td>0.075825</td>\n",
       "      <td>0.064542</td>\n",
       "      <td>0.043557</td>\n",
       "      <td>0.000000</td>\n",
       "      <td>0.057509</td>\n",
       "      <td>0.027142</td>\n",
       "      <td>0.036721</td>\n",
       "      <td>0.031413</td>\n",
       "      <td>0.017149</td>\n",
       "      <td>0.016311</td>\n",
       "      <td>0.000390</td>\n",
       "    </tr>\n",
       "    <tr>\n",
       "      <th>15</th>\n",
       "      <td>0.084078</td>\n",
       "      <td>0.044149</td>\n",
       "      <td>0.075825</td>\n",
       "      <td>0.064542</td>\n",
       "      <td>0.043557</td>\n",
       "      <td>0.000000</td>\n",
       "      <td>0.057509</td>\n",
       "      <td>0.027142</td>\n",
       "      <td>0.036721</td>\n",
       "      <td>0.031413</td>\n",
       "      <td>0.017149</td>\n",
       "      <td>0.016311</td>\n",
       "    </tr>\n",
       "    <tr>\n",
       "      <th>16</th>\n",
       "      <td>0.027658</td>\n",
       "      <td>0.084078</td>\n",
       "      <td>0.044149</td>\n",
       "      <td>0.075825</td>\n",
       "      <td>0.064542</td>\n",
       "      <td>0.043557</td>\n",
       "      <td>0.000000</td>\n",
       "      <td>0.057509</td>\n",
       "      <td>0.027142</td>\n",
       "      <td>0.036721</td>\n",
       "      <td>0.031413</td>\n",
       "      <td>0.017149</td>\n",
       "    </tr>\n",
       "    <tr>\n",
       "      <th>17</th>\n",
       "      <td>0.000000</td>\n",
       "      <td>0.027658</td>\n",
       "      <td>0.084078</td>\n",
       "      <td>0.044149</td>\n",
       "      <td>0.075825</td>\n",
       "      <td>0.064542</td>\n",
       "      <td>0.043557</td>\n",
       "      <td>0.000000</td>\n",
       "      <td>0.057509</td>\n",
       "      <td>0.027142</td>\n",
       "      <td>0.036721</td>\n",
       "      <td>0.031413</td>\n",
       "    </tr>\n",
       "    <tr>\n",
       "      <th>18</th>\n",
       "      <td>0.108320</td>\n",
       "      <td>0.000000</td>\n",
       "      <td>0.027658</td>\n",
       "      <td>0.084078</td>\n",
       "      <td>0.044149</td>\n",
       "      <td>0.075825</td>\n",
       "      <td>0.064542</td>\n",
       "      <td>0.043557</td>\n",
       "      <td>0.000000</td>\n",
       "      <td>0.057509</td>\n",
       "      <td>0.027142</td>\n",
       "      <td>0.036721</td>\n",
       "    </tr>\n",
       "    <tr>\n",
       "      <th>19</th>\n",
       "      <td>0.104658</td>\n",
       "      <td>0.108320</td>\n",
       "      <td>0.000000</td>\n",
       "      <td>0.027658</td>\n",
       "      <td>0.084078</td>\n",
       "      <td>0.044149</td>\n",
       "      <td>0.075825</td>\n",
       "      <td>0.064542</td>\n",
       "      <td>0.043557</td>\n",
       "      <td>0.000000</td>\n",
       "      <td>0.057509</td>\n",
       "      <td>0.027142</td>\n",
       "    </tr>\n",
       "    <tr>\n",
       "      <th>20</th>\n",
       "      <td>0.180318</td>\n",
       "      <td>0.104658</td>\n",
       "      <td>0.108320</td>\n",
       "      <td>0.000000</td>\n",
       "      <td>0.027658</td>\n",
       "      <td>0.084078</td>\n",
       "      <td>0.044149</td>\n",
       "      <td>0.075825</td>\n",
       "      <td>0.064542</td>\n",
       "      <td>0.043557</td>\n",
       "      <td>0.000000</td>\n",
       "      <td>0.057509</td>\n",
       "    </tr>\n",
       "    <tr>\n",
       "      <th>21</th>\n",
       "      <td>0.159977</td>\n",
       "      <td>0.180318</td>\n",
       "      <td>0.104658</td>\n",
       "      <td>0.108320</td>\n",
       "      <td>0.000000</td>\n",
       "      <td>0.027658</td>\n",
       "      <td>0.084078</td>\n",
       "      <td>0.044149</td>\n",
       "      <td>0.075825</td>\n",
       "      <td>0.064542</td>\n",
       "      <td>0.043557</td>\n",
       "      <td>0.000000</td>\n",
       "    </tr>\n",
       "  </tbody>\n",
       "</table>\n",
       "</div>"
      ],
      "text/plain": [
       "     shift_1   shift_2   shift_3   shift_4   shift_5   shift_6   shift_7  \\\n",
       "12  0.064542  0.043557  0.000000  0.057509  0.027142  0.036721  0.031413   \n",
       "13  0.075825  0.064542  0.043557  0.000000  0.057509  0.027142  0.036721   \n",
       "14  0.044149  0.075825  0.064542  0.043557  0.000000  0.057509  0.027142   \n",
       "15  0.084078  0.044149  0.075825  0.064542  0.043557  0.000000  0.057509   \n",
       "16  0.027658  0.084078  0.044149  0.075825  0.064542  0.043557  0.000000   \n",
       "17  0.000000  0.027658  0.084078  0.044149  0.075825  0.064542  0.043557   \n",
       "18  0.108320  0.000000  0.027658  0.084078  0.044149  0.075825  0.064542   \n",
       "19  0.104658  0.108320  0.000000  0.027658  0.084078  0.044149  0.075825   \n",
       "20  0.180318  0.104658  0.108320  0.000000  0.027658  0.084078  0.044149   \n",
       "21  0.159977  0.180318  0.104658  0.108320  0.000000  0.027658  0.084078   \n",
       "\n",
       "     shift_8   shift_9  shift_10  shift_11  shift_12  \n",
       "12  0.017149  0.016311  0.000390  0.002107  0.018043  \n",
       "13  0.031413  0.017149  0.016311  0.000390  0.002107  \n",
       "14  0.036721  0.031413  0.017149  0.016311  0.000390  \n",
       "15  0.027142  0.036721  0.031413  0.017149  0.016311  \n",
       "16  0.057509  0.027142  0.036721  0.031413  0.017149  \n",
       "17  0.000000  0.057509  0.027142  0.036721  0.031413  \n",
       "18  0.043557  0.000000  0.057509  0.027142  0.036721  \n",
       "19  0.064542  0.043557  0.000000  0.057509  0.027142  \n",
       "20  0.075825  0.064542  0.043557  0.000000  0.057509  \n",
       "21  0.044149  0.075825  0.064542  0.043557  0.000000  "
      ]
     },
     "execution_count": 96,
     "metadata": {},
     "output_type": "execute_result"
    }
   ],
   "source": [
    "X_train.head(10)"
   ]
  },
  {
   "cell_type": "code",
   "execution_count": 97,
   "metadata": {},
   "outputs": [
    {
     "data": {
      "text/plain": [
       "(344, 12)"
      ]
     },
     "execution_count": 97,
     "metadata": {},
     "output_type": "execute_result"
    }
   ],
   "source": [
    "X_train.shape"
   ]
  },
  {
   "cell_type": "code",
   "execution_count": 98,
   "metadata": {},
   "outputs": [],
   "source": [
    "X_train = X_train.values\n",
    "X_test= X_test.values\n",
    "\n",
    "y_train = y_train.values\n",
    "y_test = y_test.values\n"
   ]
  },
  {
   "cell_type": "markdown",
   "metadata": {},
   "source": [
    "### Fully Connected on Windows"
   ]
  },
  {
   "cell_type": "code",
   "execution_count": 99,
   "metadata": {},
   "outputs": [
    {
     "name": "stdout",
     "output_type": "stream",
     "text": [
      "_________________________________________________________________\n",
      "Layer (type)                 Output Shape              Param #   \n",
      "=================================================================\n",
      "dense_1 (Dense)              (None, 80)                1040      \n",
      "_________________________________________________________________\n",
      "dense_2 (Dense)              (None, 99)                8019      \n",
      "_________________________________________________________________\n",
      "dense_3 (Dense)              (None, 1)                 100       \n",
      "=================================================================\n",
      "Total params: 9,159\n",
      "Trainable params: 9,159\n",
      "Non-trainable params: 0\n",
      "_________________________________________________________________\n"
     ]
    }
   ],
   "source": [
    "K.clear_session()\n",
    "\n",
    "model = Sequential()\n",
    "model.add(Dense(80, input_dim=12, activation='relu'))\n",
    "model.add(Dense(99,  activation='relu'))\n",
    "model.add(Dense(1))\n",
    "model.compile(loss='mean_squared_error', optimizer='adam')\n",
    "model.summary()"
   ]
  },
  {
   "cell_type": "code",
   "execution_count": 100,
   "metadata": {
    "scrolled": true
   },
   "outputs": [
    {
     "name": "stdout",
     "output_type": "stream",
     "text": [
      "Epoch 1/100\n",
      "344/344 [==============================] - 0s 1ms/step - loss: 0.0180\n",
      "Epoch 2/100\n",
      "344/344 [==============================] - 0s 58us/step - loss: 0.0122\n",
      "Epoch 3/100\n",
      "344/344 [==============================] - 0s 58us/step - loss: 0.0116\n",
      "Epoch 4/100\n",
      "344/344 [==============================] - 0s 58us/step - loss: 0.0094\n",
      "Epoch 5/100\n",
      "344/344 [==============================] - 0s 70us/step - loss: 0.0091\n",
      "Epoch 6/100\n",
      "344/344 [==============================] - 0s 58us/step - loss: 0.0088\n",
      "Epoch 7/100\n",
      "344/344 [==============================] - 0s 46us/step - loss: 0.0081\n",
      "Epoch 8/100\n",
      "344/344 [==============================] - 0s 47us/step - loss: 0.0078\n",
      "Epoch 9/100\n",
      "344/344 [==============================] - 0s 70us/step - loss: 0.0075\n",
      "Epoch 10/100\n",
      "344/344 [==============================] - 0s 70us/step - loss: 0.0073\n",
      "Epoch 11/100\n",
      "344/344 [==============================] - 0s 35us/step - loss: 0.0071\n",
      "Epoch 12/100\n",
      "344/344 [==============================] - 0s 35us/step - loss: 0.0069\n",
      "Epoch 13/100\n",
      "344/344 [==============================] - 0s 35us/step - loss: 0.0068\n",
      "Epoch 14/100\n",
      "344/344 [==============================] - 0s 35us/step - loss: 0.0065\n",
      "Epoch 15/100\n",
      "344/344 [==============================] - 0s 35us/step - loss: 0.0066\n",
      "Epoch 00015: early stopping\n"
     ]
    },
    {
     "data": {
      "text/plain": [
       "<keras.callbacks.History at 0x20c020f5908>"
      ]
     },
     "execution_count": 100,
     "metadata": {},
     "output_type": "execute_result"
    }
   ],
   "source": [
    "model.fit(X_train, y_train, epochs=100,\n",
    "          batch_size=100, verbose=1, callbacks=[early_stop])"
   ]
  },
  {
   "cell_type": "code",
   "execution_count": 101,
   "metadata": {},
   "outputs": [],
   "source": [
    "y_pred = model.predict(X_test)\n"
   ]
  },
  {
   "cell_type": "code",
   "execution_count": 102,
   "metadata": {},
   "outputs": [
    {
     "data": {
      "text/plain": [
       "[<matplotlib.lines.Line2D at 0x20c0251e160>]"
      ]
     },
     "execution_count": 102,
     "metadata": {},
     "output_type": "execute_result"
    },
    {
     "data": {
      "image/png": "[encoded data removed]",
      "text/plain": [
       "<Figure size 432x288 with 1 Axes>"
      ]
     },
     "metadata": {
      "needs_background": "light"
     },
     "output_type": "display_data"
    }
   ],
   "source": [
    "y_test2 = sc.inverse_transform(y_test)\n",
    "y_pred2 = sc.inverse_transform(y_pred)\n",
    "\n",
    "plt.plot(y_test2)\n",
    "plt.plot(y_pred2)"
   ]
  },
  {
   "cell_type": "code",
   "execution_count": 103,
   "metadata": {},
   "outputs": [
    {
     "data": {
      "text/plain": [
       "45179.6017578125"
      ]
     },
     "execution_count": 103,
     "metadata": {},
     "output_type": "execute_result"
    }
   ],
   "source": [
    "from sklearn.metrics import mean_absolute_error\n",
    "x=mean_absolute_error(y_test2, y_pred2)\n",
    "x"
   ]
  },
  {
   "cell_type": "markdown",
   "metadata": {},
   "source": [
    "### LSTM on Windows"
   ]
  },
  {
   "cell_type": "code",
   "execution_count": 104,
   "metadata": {},
   "outputs": [],
   "source": [
    "X_train_t = X_train.reshape(X_train.shape[0], 1, 12)\n",
    "X_test_t = X_test.reshape(X_test.shape[0], 1, 12)"
   ]
  },
  {
   "cell_type": "code",
   "execution_count": 105,
   "metadata": {},
   "outputs": [
    {
     "data": {
      "text/plain": [
       "(344, 1, 12)"
      ]
     },
     "execution_count": 105,
     "metadata": {},
     "output_type": "execute_result"
    }
   ],
   "source": [
    "X_train_t.shape"
   ]
  },
  {
   "cell_type": "code",
   "execution_count": 106,
   "metadata": {},
   "outputs": [],
   "source": [
    "K.clear_session()\n",
    "model = Sequential()\n",
    "\n",
    "model.add(LSTM(80, input_shape=(1, 12)))\n",
    "\n",
    "model.add(Dense(1))\n",
    "\n",
    "model.compile(loss='mean_squared_error', optimizer='adam')"
   ]
  },
  {
   "cell_type": "code",
   "execution_count": 107,
   "metadata": {},
   "outputs": [
    {
     "name": "stdout",
     "output_type": "stream",
     "text": [
      "_________________________________________________________________\n",
      "Layer (type)                 Output Shape              Param #   \n",
      "=================================================================\n",
      "lstm_1 (LSTM)                (None, 80)                29760     \n",
      "_________________________________________________________________\n",
      "dense_1 (Dense)              (None, 1)                 81        \n",
      "=================================================================\n",
      "Total params: 29,841\n",
      "Trainable params: 29,841\n",
      "Non-trainable params: 0\n",
      "_________________________________________________________________\n"
     ]
    }
   ],
   "source": [
    "model.summary()"
   ]
  },
  {
   "cell_type": "code",
   "execution_count": 108,
   "metadata": {},
   "outputs": [
    {
     "name": "stdout",
     "output_type": "stream",
     "text": [
      "Epoch 1/100\n",
      "344/344 [==============================] - 1s 3ms/step - loss: 0.0155\n",
      "Epoch 2/100\n",
      "344/344 [==============================] - 0s 81us/step - loss: 0.0121\n",
      "Epoch 3/100\n",
      "344/344 [==============================] - 0s 93us/step - loss: 0.0115\n",
      "Epoch 4/100\n",
      "344/344 [==============================] - 0s 93us/step - loss: 0.0112\n",
      "Epoch 5/100\n",
      "344/344 [==============================] - 0s 174us/step - loss: 0.0109\n",
      "Epoch 6/100\n",
      "344/344 [==============================] - 0s 116us/step - loss: 0.0104\n",
      "Epoch 7/100\n",
      "344/344 [==============================] - 0s 139us/step - loss: 0.0100\n",
      "Epoch 8/100\n",
      "344/344 [==============================] - 0s 105us/step - loss: 0.0099\n",
      "Epoch 9/100\n",
      "344/344 [==============================] - 0s 105us/step - loss: 0.0098\n",
      "Epoch 10/100\n",
      "344/344 [==============================] - 0s 128us/step - loss: 0.0096\n",
      "Epoch 11/100\n",
      "344/344 [==============================] - 0s 105us/step - loss: 0.0094\n",
      "Epoch 12/100\n",
      "344/344 [==============================] - 0s 116us/step - loss: 0.0093\n",
      "Epoch 13/100\n",
      "344/344 [==============================] - 0s 105us/step - loss: 0.0092\n",
      "Epoch 14/100\n",
      "344/344 [==============================] - 0s 81us/step - loss: 0.0091\n",
      "Epoch 15/100\n",
      "344/344 [==============================] - 0s 70us/step - loss: 0.0090\n",
      "Epoch 16/100\n",
      "344/344 [==============================] - 0s 105us/step - loss: 0.0089\n",
      "Epoch 17/100\n",
      "344/344 [==============================] - 0s 163us/step - loss: 0.0089\n",
      "Epoch 18/100\n",
      "344/344 [==============================] - 0s 116us/step - loss: 0.0089\n",
      "Epoch 19/100\n",
      "344/344 [==============================] - 0s 93us/step - loss: 0.0087\n",
      "Epoch 20/100\n",
      "344/344 [==============================] - 0s 81us/step - loss: 0.0087\n",
      "Epoch 21/100\n",
      "344/344 [==============================] - 0s 81us/step - loss: 0.0086\n",
      "Epoch 22/100\n",
      "344/344 [==============================] - 0s 93us/step - loss: 0.0086\n",
      "Epoch 23/100\n",
      "344/344 [==============================] - 0s 105us/step - loss: 0.0085\n",
      "Epoch 24/100\n",
      "344/344 [==============================] - 0s 116us/step - loss: 0.0085\n",
      "Epoch 25/100\n",
      "344/344 [==============================] - 0s 139us/step - loss: 0.0084\n",
      "Epoch 26/100\n",
      "344/344 [==============================] - 0s 81us/step - loss: 0.0084\n",
      "Epoch 27/100\n",
      "344/344 [==============================] - 0s 93us/step - loss: 0.0084\n",
      "Epoch 00027: early stopping\n"
     ]
    },
    {
     "data": {
      "text/plain": [
       "<keras.callbacks.History at 0x20c0310cf98>"
      ]
     },
     "execution_count": 108,
     "metadata": {},
     "output_type": "execute_result"
    }
   ],
   "source": [
    "model.fit(X_train_t, y_train, epochs=100,\n",
    "          batch_size=80, verbose=1, callbacks=[early_stop])"
   ]
  },
  {
   "cell_type": "code",
   "execution_count": 109,
   "metadata": {},
   "outputs": [],
   "source": [
    "y_pred = model.predict(X_test_t)\n",
    "#plt.plot(y_test)\n",
    "#plt.plot(y_pred)"
   ]
  },
  {
   "cell_type": "code",
   "execution_count": 110,
   "metadata": {},
   "outputs": [
    {
     "data": {
      "text/plain": [
       "[<matplotlib.lines.Line2D at 0x20c032bcb70>]"
      ]
     },
     "execution_count": 110,
     "metadata": {},
     "output_type": "execute_result"
    },
    {
     "data": {
      "image/png": "[encoded data removed]",
      "text/plain": [
       "<Figure size 432x288 with 1 Axes>"
      ]
     },
     "metadata": {
      "needs_background": "light"
     },
     "output_type": "display_data"
    }
   ],
   "source": [
    "y_test2 = sc.inverse_transform(y_test)\n",
    "y_pred2 = sc.inverse_transform(y_pred)\n",
    "\n",
    "plt.plot(y_test2)\n",
    "plt.plot(y_pred2)"
   ]
  },
  {
   "cell_type": "code",
   "execution_count": 111,
   "metadata": {},
   "outputs": [
    {
     "data": {
      "text/plain": [
       "208946.257265625"
      ]
     },
     "execution_count": 111,
     "metadata": {},
     "output_type": "execute_result"
    }
   ],
   "source": [
    "from sklearn.metrics import mean_absolute_error\n",
    "x=mean_absolute_error(y_test2, y_pred2)\n",
    "x"
   ]
  },
  {
   "cell_type": "code",
   "execution_count": null,
   "metadata": {},
   "outputs": [],
   "source": []
  },
  {
   "cell_type": "markdown",
   "metadata": {},
   "source": [
    "# CNN MODEL"
   ]
  },
  {
   "cell_type": "code",
   "execution_count": 48,
   "metadata": {},
   "outputs": [],
   "source": [
    "from numpy import array\n",
    "from keras.models import Sequential\n",
    "from keras.layers import Dense\n",
    "from keras.layers import Flatten\n",
    "from keras.layers.convolutional import Conv1D\n",
    "from keras.layers.convolutional import MaxPooling1D"
   ]
  },
  {
   "cell_type": "code",
   "execution_count": null,
   "metadata": {},
   "outputs": [],
   "source": []
  },
  {
   "cell_type": "code",
   "execution_count": 44,
   "metadata": {},
   "outputs": [],
   "source": [
    "X_train_t = X_train.reshape(X_train.shape[0], 12, 1)\n",
    "X_test_t = X_test.reshape(X_test.shape[0], 12, 1)"
   ]
  },
  {
   "cell_type": "code",
   "execution_count": 45,
   "metadata": {},
   "outputs": [
    {
     "data": {
      "text/plain": [
       "(228, 12, 1)"
      ]
     },
     "execution_count": 45,
     "metadata": {},
     "output_type": "execute_result"
    }
   ],
   "source": [
    "X_train_t.shape"
   ]
  },
  {
   "cell_type": "code",
   "execution_count": 61,
   "metadata": {},
   "outputs": [],
   "source": [
    "model = Sequential()\n",
    "model.add(Conv1D(filters=96, kernel_size=3, activation='relu', input_shape=(12, 1)))\n",
    "model.add(MaxPooling1D(pool_size=2))\n",
    "model.add(Flatten())\n",
    "model.add(Dense(100, activation='relu'))\n",
    "model.add(Dense(1))\n",
    "model.compile(optimizer='adam', loss='mse')"
   ]
  },
  {
   "cell_type": "code",
   "execution_count": 62,
   "metadata": {},
   "outputs": [
    {
     "name": "stdout",
     "output_type": "stream",
     "text": [
      "Epoch 1/100\n",
      "228/228 [==============================] - 1s 4ms/step - loss: 0.0144\n",
      "Epoch 2/100\n",
      "228/228 [==============================] - 0s 2ms/step - loss: 0.0031\n",
      "Epoch 3/100\n",
      "228/228 [==============================] - 0s 2ms/step - loss: 0.0022\n",
      "Epoch 4/100\n",
      "228/228 [==============================] - 1s 2ms/step - loss: 0.0020\n",
      "Epoch 5/100\n",
      "228/228 [==============================] - 0s 2ms/step - loss: 0.0018\n",
      "Epoch 6/100\n",
      "228/228 [==============================] - 0s 2ms/step - loss: 0.0015\n",
      "Epoch 7/100\n",
      "228/228 [==============================] - 1s 2ms/step - loss: 0.0014\n",
      "Epoch 8/100\n",
      "228/228 [==============================] - 0s 2ms/step - loss: 0.0014\n",
      "Epoch 9/100\n",
      "228/228 [==============================] - 1s 2ms/step - loss: 0.0016\n",
      "Epoch 00009: early stopping\n"
     ]
    },
    {
     "data": {
      "text/plain": [
       "<keras.callbacks.History at 0x2c9889eccc0>"
      ]
     },
     "execution_count": 62,
     "metadata": {},
     "output_type": "execute_result"
    }
   ],
   "source": [
    "model.fit(X_train_t, y_train, epochs=100,\n",
    "          batch_size=1, verbose=1, callbacks=[early_stop])"
   ]
  },
  {
   "cell_type": "code",
   "execution_count": 63,
   "metadata": {},
   "outputs": [
    {
     "data": {
      "text/plain": [
       "[<matplotlib.lines.Line2D at 0x2c988e818d0>]"
      ]
     },
     "execution_count": 63,
     "metadata": {},
     "output_type": "execute_result"
    },
    {
     "data": {
      "image/png": "[encoded data removed]",
      "text/plain": [
       "<Figure size 432x288 with 1 Axes>"
      ]
     },
     "metadata": {
      "needs_background": "light"
     },
     "output_type": "display_data"
    }
   ],
   "source": [
    "y_pred = model.predict(X_test_t)\n",
    "plt.plot(y_test)\n",
    "plt.plot(y_pred)"
   ]
  },
  {
   "cell_type": "code",
   "execution_count": null,
   "metadata": {},
   "outputs": [],
   "source": []
  }
 ],
 "metadata": {
  "kernelspec": {
   "display_name": "Python 3",
   "language": "python",
   "name": "python3"
  },
  "language_info": {
   "codemirror_mode": {
    "name": "ipython",
    "version": 3
   },
   "file_extension": ".py",
   "mimetype": "text/x-python",
   "name": "python",
   "nbconvert_exporter": "python",
   "pygments_lexer": "ipython3",
   "version": "3.6.8"
  }
 },
 "nbformat": 4,
 "nbformat_minor": 2
}
